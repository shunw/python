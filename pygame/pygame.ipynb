{
 "metadata": {
  "language_info": {
   "codemirror_mode": {
    "name": "ipython",
    "version": 3
   },
   "file_extension": ".py",
   "mimetype": "text/x-python",
   "name": "python",
   "nbconvert_exporter": "python",
   "pygments_lexer": "ipython3",
   "version": "3.6.5-final"
  },
  "orig_nbformat": 2,
  "kernelspec": {
   "name": "python36564bitff28b0bc308b43728a982148efad7fb6",
   "display_name": "Python 3.6.5 64-bit"
  }
 },
 "nbformat": 4,
 "nbformat_minor": 2,
 "cells": [
  {
   "cell_type": "markdown",
   "metadata": {},
   "source": [
    "# pygame basic op\n",
    "\n",
    "Without the following basic ones, there is nothing shown. \n",
    "My understanding to pygame: this is consists of many frames of picture. And need to update continuously. \n",
    "\n",
    "- need to init pygame\n",
    "\n",
    "- set the pygame display\n",
    "\n",
    "- start a basic running\n",
    "\n",
    "- set a quit condition"
   ]
  },
  {
   "cell_type": "code",
   "execution_count": null,
   "metadata": {},
   "outputs": [],
   "source": [
    "import pygame\n",
    "\n",
    "pygame.init()\n",
    "\n",
    "gameDisplay = pygame.display.set_mode((800, 600))\n",
    "\n",
    "gameDisplay.fill(black)\n",
    "\n",
    "while True: \n",
    "    for event in pygame.event.get(): \n",
    "        if event.type == pygame.QUIT: \n",
    "            pygame.quit()\n",
    "            quit()\n",
    "\n",
    "    pygame.display.update()\n"
   ]
  },
  {
   "cell_type": "markdown",
   "metadata": {},
   "source": [
    "# pygame drawing\n",
    "\n",
    "Use pygame to draw objects"
   ]
  },
  {
   "cell_type": "code",
   "execution_count": 4,
   "metadata": {
    "tags": []
   },
   "outputs": [],
   "source": [
    "# fill color in pixel\n",
    "pixAr = pygame.PixelArray(gameDisplay)\n",
    "pixAr[10][20] = green\n",
    "\n",
    "# draw a line \n",
    "pygame.draw.line(gameDisplay, blue, (100, 200), (300, 45), 5)\n",
    "\n",
    "# draw rect\n",
    "pygame.draw.rect(gameDisplay, red, (400, 400, 50, 25))\n",
    "\n",
    "# draw circle\n",
    "pygame.draw.circle(gameDisplay, white, (150, 150), 75)\n",
    "\n",
    "# draw polygon\n",
    "pygame.draw.polygon(gameDisplay, green, ((25, 75), (76, 125), (250, 375),(400, 25), (60, 540)))\n"
   ]
  }
 ]
}