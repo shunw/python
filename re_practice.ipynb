{
 "nbformat": 4,
 "nbformat_minor": 2,
 "metadata": {
  "language_info": {
   "name": "python",
   "codemirror_mode": {
    "name": "ipython",
    "version": 3
   },
   "version": "3.6.8-final"
  },
  "orig_nbformat": 2,
  "file_extension": ".py",
  "mimetype": "text/x-python",
  "name": "python",
  "npconvert_exporter": "python",
  "pygments_lexer": "ipython3",
  "version": 3,
  "kernelspec": {
   "name": "python36864bitf7bd684850044f31a59bb3f7ce0c661b",
   "display_name": "Python 3.6.8 64-bit"
  }
 },
 "cells": [
  {
   "cell_type": "markdown",
   "execution_count": null,
   "metadata": {},
   "outputs": [],
   "source": [
    "### pro1. Matching a decimal numbers"
   ]
  },
  {
   "cell_type": "code",
   "execution_count": 43,
   "metadata": {},
   "outputs": [
    {
     "name": "stdout",
     "output_type": "stream",
     "text": "['3.14529', '-255.34', '128', '+568.596', '1.9e10', '123,340.00']\n"
    }
   ],
   "source": [
    "import re\n",
    "data = ['3.14529', '-255.34', '128', '+568.596', '1.9e10', '123,340.00', '720p']\n",
    "res = [re.findall('[\\d\\.,e\\+-]+(?![\\d*a-z]+)', i)[0] for i in data if re.findall('[\\d\\.,e\\+-]+(?![\\d*a-z]+)', i)]\n",
    "print (res)    "
   ]
  },
  {
   "cell_type": "markdown",
   "execution_count": null,
   "metadata": {},
   "outputs": [],
   "source": [
    "### pro2. Matching phone numbers"
   ]
  },
  {
   "cell_type": "code",
   "execution_count": 65,
   "metadata": {},
   "outputs": [
    {
     "name": "stdout",
     "output_type": "stream",
     "text": "['415', '650', '416', '202', '403', '416']\n"
    }
   ],
   "source": [
    "import re\n",
    "data = ['415-555-1234', '650-555-2345', '(416)555-3456', '202 555 4567', '4035555678', '1 416 555 9292']\n",
    "cor = ['415', '605', '416', '202', '403', '416']\n",
    "res = [''.join(re.findall('([\\d]+)', i))[-10:-7] for i in data]\n",
    "\n",
    "print (res)\n"
   ]
  },
  {
   "cell_type": "markdown",
   "execution_count": null,
   "metadata": {},
   "outputs": [],
   "source": [
    "### pro3. Matching emails\n",
    "\n",
    "- use ^ in the start to just remain the first word"
   ]
  },
  {
   "cell_type": "code",
   "execution_count": 84,
   "metadata": {},
   "outputs": [
    {
     "name": "stdout",
     "output_type": "stream",
     "text": "[['tom'], ['tom.riddle'], ['tom.riddle'], ['tom'], ['potter'], ['harry'], ['hermione']]\n"
    }
   ],
   "source": [
    "import re\n",
    "data = ['tom@hogwarts.com', 'tom.riddle@hogwarts.com', 'tom.riddle+regexone@hogwarts.com', 'tom@hogwarts.eu.com', 'potter@hogwarts.com', 'harry@hogwarts.com', 'hermione+regexone@hogwarts.com']\n",
    "cor = ['tom', 'tom.riddle', 'tom.riddle', 'tom', 'potter', 'harry', 'hermione']\n",
    "\n",
    "res = [re.findall('^([\\w\\.]*)', i) for i in data]\n",
    "print (res)"
   ]
  },
  {
   "cell_type": "markdown",
   "execution_count": null,
   "metadata": {},
   "outputs": [],
   "source": [
    "### Pro4. Matching HTML\n",
    "\n",
    "- \\w will filter all the white space and the symbols"
   ]
  },
  {
   "cell_type": "code",
   "execution_count": 107,
   "metadata": {},
   "outputs": [
    {
     "name": "stdout",
     "output_type": "stream",
     "text": "[['a'], ['a'], ['div'], ['div']]\n"
    }
   ],
   "source": [
    "import re\n",
    "\n",
    "data = ['<a>This is a link</a>', \"<a href='https://regexone.com'>Link</a>\", \"<div class='test_style'>Test</div>\", \"<div>Hello <span>world</span></div>\"]\n",
    "cor = ['a', 'a', 'div', 'div']\n",
    "\n",
    "res = [re.findall('^<(\\w*)', i) for i in data]\n",
    "print (res)"
   ]
  },
  {
   "cell_type": "markdown",
   "execution_count": null,
   "metadata": {},
   "outputs": [],
   "source": [
    "### Pro5. Matching specific filenames"
   ]
  },
  {
   "cell_type": "code",
   "execution_count": 34,
   "metadata": {},
   "outputs": [
    {
     "name": "stdout",
     "output_type": "stream",
     "text": "[[], [], [('img0912', 'jpg')], [('updated_img0912', 'png')], [], [('favicon', 'gif')], [], []]\n"
    }
   ],
   "source": [
    "import re\n",
    "\n",
    "data = ['.bash_profile', 'workspace.doc', 'img0912.jpg', 'updated_img0912.png', 'documentation.html', 'favicon.gif', 'img0912.jpg.tmp', 'access.lock']\n",
    "\n",
    "cor = [['img0912', 'jpg'], ['updated_img0912', 'png'], ['favicon', 'gif']]\n",
    "\n",
    "res = [re.findall('(.*).(jpg)$|(.*).(gif)$|(.*).(png)$', i) for i in data]\n",
    "res = [re.findall('(.*)\\.(.*[gf])$', i) for i in data]\n",
    "print (res)"
   ]
  },
  {
   "cell_type": "markdown",
   "execution_count": null,
   "metadata": {},
   "outputs": [],
   "source": [
    "### Pro6. Trimming whitespace from start and end of line"
   ]
  },
  {
   "cell_type": "code",
   "execution_count": 54,
   "metadata": {},
   "outputs": [
    {
     "name": "stdout",
     "output_type": "stream",
     "text": "[['The quick brown fox...'], ['jumps over the lazy dog.']]\nyes\nyes\n"
    }
   ],
   "source": [
    "import re\n",
    "\n",
    "data = ['\t\t\t\tThe quick brown fox... ', '  jumps over the lazy dog.  ']\n",
    "\n",
    "cor = ['The quick brown fox...', 'jumps over the lazy dog.']\n",
    "\n",
    "res = [re.findall('^\\s*(.*?)\\s*$', i) for i in data]\n",
    "print (res)\n",
    "\n",
    "\n",
    "# print (res)"
   ]
  },
  {
   "cell_type": "markdown",
   "execution_count": null,
   "metadata": {},
   "outputs": [],
   "source": [
    "### Pro7. Extracting info from a log file\n",
    "\n",
    "- 只要把pattern相关的想好即可，不用管前后还剩多少"
   ]
  },
  {
   "cell_type": "code",
   "execution_count": 74,
   "metadata": {},
   "outputs": [
    {
     "name": "stdout",
     "output_type": "stream",
     "text": "[[], [], [], [('makeView', 'ListView.java', '1727')], [('fillDown', 'ListView.java', '652')], [('fillFrom', 'ListView.java', '709')]]\n[[], [], [], [('makeView', 'ListView.java', '1727')], [('fillDown', 'ListView.java', '652')], [('fillFrom', 'ListView.java', '709')]]\n"
    }
   ],
   "source": [
    "import re\n",
    "\n",
    "data = ['W/dalvikvm( 1553): threadid=1: uncaught exception', 'E/( 1553): FATAL EXCEPTION: main', 'E/( 1553): java.lang.StringIndexOutOfBoundsException', 'E/( 1553):   at widget.List.makeView(ListView.java:1727)', 'E/( 1553):   at widget.List.fillDown(ListView.java:652)', 'E/( 1553):   at widget.List.fillFrom(ListView.java:709)']\n",
    "\n",
    "cor = [['makeView', 'ListView.java', '1727'], ['fillDown', 'ListView.java', '652'], ['fillFrom', 'ListView.java', '709']]\n",
    "\n",
    "res = [re.findall('.*at\\s\\w+\\.\\w+\\.(\\w+)\\((.*):(.*)\\)$', i) for i in data]\n",
    "print (res)\n",
    "  \n",
    "res = [re.findall('(\\w+)\\(([\\w\\.]+):(\\d+)\\)', i) for i in data]\n",
    "print (res)"
   ]
  },
  {
   "cell_type": "markdown",
   "execution_count": 76,
   "metadata": {},
   "outputs": [],
   "source": [
    "### Pro.8 Prasing and extracting data from a URL"
   ]
  },
  {
   "cell_type": "code",
   "execution_count": null,
   "metadata": {},
   "outputs": [],
   "source": [
    "import re\n",
    "\n",
    "data = ['ftp://file_server.com:21/top_secret/life_changing_plans.pdf', 'https://regexone.com/lesson/introduction#section', 'file://localhost:4040/zip_file', 'https://s3cur3-server.com:9999/', 'market://search/angry%20birds']\n",
    "\n",
    "cor = [['ftp', 'file_server.com', '21'], ['https', 'regexone.com'], ['file', 'localhost', '4040'], ['https', 's3cur3-server.com', '9999'], ['market', 'search']]"
   ]
  }
 ]
}