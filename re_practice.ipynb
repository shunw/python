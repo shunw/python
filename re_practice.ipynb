{
 "nbformat": 4,
 "nbformat_minor": 2,
 "metadata": {
  "language_info": {
   "name": "python",
   "codemirror_mode": {
    "name": "ipython",
    "version": 3
   },
   "version": "3.6.5-final"
  },
  "orig_nbformat": 2,
  "file_extension": ".py",
  "mimetype": "text/x-python",
  "name": "python",
  "npconvert_exporter": "python",
  "pygments_lexer": "ipython3",
  "version": 3,
  "kernelspec": {
   "name": "python36564bitff28b0bc308b43728a982148efad7fb6",
   "display_name": "Python 3.6.5 64-bit"
  }
 },
 "cells": [
  {
   "cell_type": "markdown",
   "execution_count": null,
   "metadata": {},
   "outputs": [],
   "source": [
    "### pro1. Matching a decimal numbers\n",
    "\n",
    "[link for the test](https://regexone.com/problem/matching_decimal_numbers)"
   ]
  },
  {
   "cell_type": "markdown",
   "execution_count": null,
   "metadata": {},
   "outputs": [],
   "source": [
    "分若干部分： \n",
    "\n",
    "- 第一个部分是要看有没有 + - null 部分 `^[+-]`?\n",
    "\n",
    "    - ? --- if they have or not\n",
    "\n",
    "    - ^ --- from the beginning\n",
    "\n",
    "- 第二个部分选出标点前的数字 \\d+ \n",
    "\n",
    "- 第三部分可能有或者没有\n",
    "\n",
    "    - 若干的逗号,：前后必有数字 (,\\d+)* --- 以pattern出现或不出现\n",
    "\n",
    "    - 唯一个句号.: 前后必有数字 (\\.\\d+)* --- 以pattern出现或不出现\n",
    "\n",
    "    - 唯一e：前后必有数字: 前后必有数字 (e\\d+)* --- 以pattern出现或不出现\n",
    "\n",
    "- 排除，没有除了e之外的字母"
   ]
  },
  {
   "cell_type": "code",
   "execution_count": 64,
   "metadata": {},
   "outputs": [
    {
     "name": "stdout",
     "output_type": "stream",
     "text": "[[], [], ['128'], [], [], [], [], [], []]\nind: 0, value: 1 not equal to 3.14529\n"
    }
   ],
   "source": [
    "import re\n",
    "data = ['3.14529', '-255.34', '128', '+568.596', '1.9e10', '123,340.00', '720p', '123,340,567', '73p89']\n",
    "std_res = ['3.14529', '-255.34', '128', '+568.596', '1.9e10', '123,340.00', '123,340,567']\n",
    "# res = [re.findall('(^[+-]?\\d+(,\\d+)*(\\.\\d+)*(e\\d+)*$)', i) for i in data]\n",
    "res = [re.findall('(^[+-]?\\d+$)', i) for i in data]\n",
    "print (res)\n",
    "res = [r[0][0] for r in res if r]\n",
    "for i, r in enumerate(res): \n",
    "    if r == std_res[i]: print ('pass')\n",
    "    else: print ('ind: {i}, value: {v} not equal to {ans}'.format(i = i, v = r, ans = std_res[i]))\n",
    "\n"
   ]
  },
  {
   "cell_type": "markdown",
   "execution_count": null,
   "metadata": {},
   "outputs": [],
   "source": [
    "### pro2. Matching phone numbers"
   ]
  },
  {
   "cell_type": "markdown",
   "execution_count": null,
   "metadata": {},
   "outputs": [],
   "source": [
    "目的：拿到电话号码里的区号，如果有国家号，去掉国家号"
   ]
  },
  {
   "cell_type": "code",
   "execution_count": 42,
   "metadata": {},
   "outputs": [
    {
     "name": "stdout",
     "output_type": "stream",
     "text": "[['415', '555', '1234'], ['650', '555', '2345'], ['416', '555', '3456'], ['202', '555', '4567'], ['4035555678'], ['1', '416', '555', '9292']]\n"
    }
   ],
   "source": [
    "import re\n",
    "data = ['415-555-1234', '650-555-2345', '(416)555-3456', '202 555 4567', '4035555678', '1 416 555 9292']\n",
    "cor = ['415', '605', '416', '202', '403', '416']\n",
    "\n",
    "# a = re.compile('[(]?(\\d+)')\n",
    "res = [re.findall('[(]?(\\d+)', d) for d in data]\n",
    "\n",
    "\n",
    "\n",
    "print (res)\n"
   ]
  },
  {
   "cell_type": "markdown",
   "execution_count": null,
   "metadata": {},
   "outputs": [],
   "source": [
    "### pro3. Matching emails\n",
    "\n",
    "- use ^ in the start to just remain the first word\n",
    "\n",
    "- 将邮箱@前面的名字提取出来，如果提取出来的是有+的，将+之前的名字提取出来\n",
    "\n",
    "- res = [re.findall('^([\\w\\.]*)', i) for i in data]"
   ]
  },
  {
   "cell_type": "code",
   "execution_count": 77,
   "metadata": {},
   "outputs": [
    {
     "name": "stdout",
     "output_type": "stream",
     "text": "pass\npass\npass\npass\npass\npass\npass\n"
    }
   ],
   "source": [
    "import re\n",
    "data = ['tom@hogwarts.com', 'tom.riddle@hogwarts.com', 'tom.riddle+regexone@hogwarts.com', 'tom@hogwarts.eu.com', 'potter@hogwarts.com', 'harry@hogwarts.com', 'hermione+regexone@hogwarts.com']\n",
    "cor = ['tom', 'tom.riddle', 'tom.riddle', 'tom', 'potter', 'harry', 'hermione']\n",
    "\n",
    "# # ans 1\n",
    "# res = [re.findall('^([\\w\\.]*)', i) for i in data]\n",
    "\n",
    "# ans 2\n",
    "res = [re.findall('(.*?)(\\+.*)?@.*', i) for i in data]\n",
    "res = [r[0][0] for r in res]\n",
    "\n",
    "for i, v in enumerate(res): \n",
    "    if v == cor[i]: print (\"pass\")\n",
    "    else: \n",
    "        print ('ind: {i}, value: {v} not equal to {ans}'.format(i = i, v = v, ans = cor[i]))\n"
   ]
  },
  {
   "cell_type": "markdown",
   "execution_count": null,
   "metadata": {},
   "outputs": [],
   "source": [
    "### Pro4. Matching HTML\n",
    "\n",
    "- \\w will filter all the white space and the symbols"
   ]
  },
  {
   "cell_type": "code",
   "execution_count": 107,
   "metadata": {},
   "outputs": [
    {
     "name": "stdout",
     "output_type": "stream",
     "text": "[['a'], ['a'], ['div'], ['div']]\n"
    }
   ],
   "source": [
    "import re\n",
    "\n",
    "data = ['<a>This is a link</a>', \"<a href='https://regexone.com'>Link</a>\", \"<div class='test_style'>Test</div>\", \"<div>Hello <span>world</span></div>\"]\n",
    "cor = ['a', 'a', 'div', 'div']\n",
    "\n",
    "res = [re.findall('^<(\\w*)', i) for i in data]\n",
    "print (res)"
   ]
  },
  {
   "cell_type": "markdown",
   "execution_count": null,
   "metadata": {},
   "outputs": [],
   "source": [
    "### Pro5. Matching specific filenames"
   ]
  },
  {
   "cell_type": "code",
   "execution_count": 79,
   "metadata": {},
   "outputs": [
    {
     "name": "stdout",
     "output_type": "stream",
     "text": "[[], [], [], [('updated_img0912', 'png')], [], [('favicon', 'gif')], [], []]\n"
    }
   ],
   "source": [
    "import re\n",
    "\n",
    "data = ['.bash_profile', 'workspace.doc', 'img0912.jpg', 'updated_img0912.png', 'documentation.html', 'favicon.gif', 'img0912.jpg.tmp', 'access.lock']\n",
    "\n",
    "cor = [['img0912', 'jpg'], ['updated_img0912', 'png'], ['favicon', 'gif']]\n",
    "\n",
    "res = [re.findall('(.*).(jpg)$|(.*).(gif)$|(.*).(png)$', i) for i in data]\n",
    "res = [re.findall('(.*)\\.(.*[pg][ni][gf])$', i) for i in data]\n",
    "print (res)"
   ]
  },
  {
   "cell_type": "markdown",
   "execution_count": null,
   "metadata": {},
   "outputs": [],
   "source": [
    "### Pro6. Trimming whitespace from start and end of line"
   ]
  },
  {
   "cell_type": "markdown",
   "execution_count": 46,
   "metadata": {},
   "outputs": [
    {
     "ename": "SyntaxError",
     "evalue": "invalid syntax (<ipython-input-46-0a1d09ddc801>, line 1)",
     "output_type": "error",
     "traceback": [
      "\u001b[0;36m  File \u001b[0;32m\"<ipython-input-46-0a1d09ddc801>\"\u001b[0;36m, line \u001b[0;32m1\u001b[0m\n\u001b[0;31m    - greedy mode\u001b[0m\n\u001b[0m                ^\u001b[0m\n\u001b[0;31mSyntaxError\u001b[0m\u001b[0;31m:\u001b[0m invalid syntax\n"
     ]
    }
   ],
   "source": [
    "- greedy mode "
   ]
  },
  {
   "cell_type": "code",
   "execution_count": 45,
   "metadata": {},
   "outputs": [
    {
     "name": "stdout",
     "output_type": "stream",
     "text": "[['The quick brown fox...'], ['jumps over the lazy dog.']]\n[['The quick brown fox... '], ['jumps over the lazy dog.  ']]\n"
    }
   ],
   "source": [
    "import re\n",
    "\n",
    "data = ['\t\t\t\tThe quick brown fox... ', '  jumps over the lazy dog.  ']\n",
    "\n",
    "cor = ['The quick brown fox...', 'jumps over the lazy dog.']\n",
    "\n",
    "res = [re.findall('^\\s*(.*?)\\s*$', i) for i in data]\n",
    "print (res)\n",
    "\n",
    "res = [re.findall('^\\s*(.*)\\s*$', i) for i in data]\n",
    "print (res)\n",
    "\n",
    "\n",
    "# print (res)"
   ]
  },
  {
   "cell_type": "code",
   "execution_count": null,
   "metadata": {},
   "outputs": [],
   "source": []
  },
  {
   "cell_type": "markdown",
   "execution_count": null,
   "metadata": {},
   "outputs": [],
   "source": [
    "### Pro7. Extracting info from a log file\n",
    "\n",
    "- 只要把pattern相关的想好即可，不用管前后还剩多少"
   ]
  },
  {
   "cell_type": "code",
   "execution_count": 74,
   "metadata": {},
   "outputs": [
    {
     "name": "stdout",
     "output_type": "stream",
     "text": "[[], [], [], [('makeView', 'ListView.java', '1727')], [('fillDown', 'ListView.java', '652')], [('fillFrom', 'ListView.java', '709')]]\n[[], [], [], [('makeView', 'ListView.java', '1727')], [('fillDown', 'ListView.java', '652')], [('fillFrom', 'ListView.java', '709')]]\n"
    }
   ],
   "source": [
    "import re\n",
    "\n",
    "data = ['W/dalvikvm( 1553): threadid=1: uncaught exception', 'E/( 1553): FATAL EXCEPTION: main', 'E/( 1553): java.lang.StringIndexOutOfBoundsException', 'E/( 1553):   at widget.List.makeView(ListView.java:1727)', 'E/( 1553):   at widget.List.fillDown(ListView.java:652)', 'E/( 1553):   at widget.List.fillFrom(ListView.java:709)']\n",
    "\n",
    "cor = [['makeView', 'ListView.java', '1727'], ['fillDown', 'ListView.java', '652'], ['fillFrom', 'ListView.java', '709']]\n",
    "\n",
    "res = [re.findall('.*at\\s\\w+\\.\\w+\\.(\\w+)\\((.*):(.*)\\)$', i) for i in data]\n",
    "print (res)\n",
    "  \n",
    "res = [re.findall('(\\w+)\\(([\\w\\.]+):(\\d+)\\)', i) for i in data]\n",
    "print (res)"
   ]
  },
  {
   "cell_type": "markdown",
   "execution_count": 76,
   "metadata": {},
   "outputs": [],
   "source": [
    "### Pro.8 Prasing and extracting data from a URL"
   ]
  },
  {
   "cell_type": "code",
   "execution_count": null,
   "metadata": {},
   "outputs": [],
   "source": [
    "import re\n",
    "\n",
    "data = ['ftp://file_server.com:21/top_secret/life_changing_plans.pdf', 'https://regexone.com/lesson/introduction#section', 'file://localhost:4040/zip_file', 'https://s3cur3-server.com:9999/', 'market://search/angry%20birds']\n",
    "\n",
    "cor = [['ftp', 'file_server.com', '21'], ['https', 'regexone.com'], ['file', 'localhost', '4040'], ['https', 's3cur3-server.com', '9999'], ['market', 'search']]"
   ]
  },
  {
   "cell_type": "markdown",
   "execution_count": null,
   "metadata": {},
   "outputs": [],
   "source": [
    "### Problem from code_wars"
   ]
  },
  {
   "cell_type": "code",
   "execution_count": null,
   "metadata": {},
   "outputs": [],
   "source": [
    "\n",
    "\n",
    "# assert translate(\"hieeelalaooo\") == \"hello\", \"Hi!\"\n",
    "    # assert translate(\"hoooowe yyyooouuu duoooiiine\") == \"how you doin\", \"Joey?\"\n",
    "    # assert translate(\"aaa bo cy da eee fe\") == \"a b c d e f\", \"Alphabet\"\n",
    "    # assert translate(\"sooooso aaaaaaaaa\") == \"sos aaa\", \"Mayday, mayday\"\n",
    "    # print(\"Coding complete? Click 'Check' to review your tests and earn   cool rewards!\")\n",
    "    "
   ]
  }
 ]
}