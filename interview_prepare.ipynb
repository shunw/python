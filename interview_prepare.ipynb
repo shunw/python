{
 "nbformat": 4,
 "nbformat_minor": 2,
 "metadata": {
  "language_info": {
   "name": "python",
   "codemirror_mode": {
    "name": "ipython",
    "version": 3
   },
   "version": "3.6.5-final"
  },
  "orig_nbformat": 2,
  "file_extension": ".py",
  "mimetype": "text/x-python",
  "name": "python",
  "npconvert_exporter": "python",
  "pygments_lexer": "ipython3",
  "version": 3,
  "kernelspec": {
   "name": "python36564bitff28b0bc308b43728a982148efad7fb6",
   "display_name": "Python 3.6.5 64-bit"
  }
 },
 "cells": [
  {
   "cell_type": "markdown",
   "execution_count": null,
   "metadata": {},
   "outputs": [],
   "source": [
    "### zip\n",
    "\n",
    "- combine several iterate items"
   ]
  },
  {
   "cell_type": "code",
   "execution_count": 3,
   "metadata": {},
   "outputs": [
    {
     "name": "stdout",
     "output_type": "stream",
     "text": "[1, 4, 'a']\n[2, 5, 'b']\n[3, 6, 'c']\n"
    }
   ],
   "source": [
    "a = [1, 2, 3]\n",
    "b = [4, 5, 6]\n",
    "c = ['a', 'b', 'c']\n",
    "for i in zip(a, b, c): \n",
    "    print (list(i))"
   ]
  },
  {
   "cell_type": "markdown",
   "execution_count": null,
   "metadata": {},
   "outputs": [],
   "source": [
    "### pandas part\n",
    "\n",
    "- diff: \n",
    "\n",
    "    - current_row - last row\n",
    "\n",
    "- rolling: \n",
    "\n",
    "    - sum(current_row : current_row - n_row)"
   ]
  },
  {
   "cell_type": "code",
   "execution_count": 41,
   "metadata": {},
   "outputs": [
    {
     "name": "stdout",
     "output_type": "stream",
     "text": "diff  original\n0  30.74     13.87\n1  30.30     13.65\n2  24.02     10.51\n3  11.50      4.25\n"
    }
   ],
   "source": [
    "import pandas as pd\n",
    "\n",
    "f = pd.read_csv('sitka_weather_2018_full.csv')\n",
    "\n",
    "# get all the column name\n",
    "list(f.columns)\n",
    "\n",
    "col_name = 'AWND'\n",
    "\n",
    "# calculate along col\n",
    "f[col_name].sum()\n",
    "\n",
    "# diff\n",
    "df = pd.DataFrame({'original': f[col_name][:4], 'diff': f[col_name].diff()[:4]})\n",
    "\n",
    "# rolling\n",
    "df = pd.DataFrame({'original': f[col_name][:4], 'diff': f[col_name].rolling(2).sum()[:4]})\n",
    "\n",
    "# apply\n",
    "df = pd.DataFrame({'original': f[col_name][:4], 'diff': f[col_name].apply(lambda x: x*2 + 3)[:4]})\n",
    "\n",
    "print (df)"
   ]
  },
  {
   "cell_type": "code",
   "execution_count": null,
   "metadata": {},
   "outputs": [],
   "source": []
  }
 ]
}