{
 "nbformat": 4,
 "nbformat_minor": 2,
 "metadata": {
  "language_info": {
   "name": "python",
   "codemirror_mode": {
    "name": "ipython",
    "version": 3
   },
   "version": "3.6.5-final"
  },
  "orig_nbformat": 2,
  "file_extension": ".py",
  "mimetype": "text/x-python",
  "name": "python",
  "npconvert_exporter": "python",
  "pygments_lexer": "ipython3",
  "version": 3,
  "kernelspec": {
   "name": "python36564bitff28b0bc308b43728a982148efad7fb6",
   "display_name": "Python 3.6.5 64-bit"
  }
 },
 "cells": [
  {
   "cell_type": "markdown",
   "metadata": {},
   "source": [
    "## Turn Background from White to Transparent"
   ]
  },
  {
   "cell_type": "markdown",
   "metadata": {},
   "source": [
    "Purpose: Turn the white background to transparent.\n",
    "\n",
    "- Turn the RGBA, A channel to 0. \n",
    "\n",
    "- If need to turn the Character to Black. Change the NewData under else to (1, 1, 1, 255). Turn A Channel to no transparent. "
   ]
  },
  {
   "cell_type": "code",
   "execution_count": 4,
   "metadata": {},
   "outputs": [],
   "source": [
    "from PIL import Image\n",
    "\n",
    "planeIm = Image.open('silken_ch.jpeg')\n",
    "planeIm = planeIm.convert('RGBA')\n",
    "datas = planeIm.getdata()\n",
    "\n",
    "newData = []\n",
    "for item in datas:\n",
    "    # if item[0] > 240 and item[1] > 240 and item[2] > 240:\n",
    "    if item[0] > 80 and item[1] > 80 and item[2] > 80:    \n",
    "        newData.append((255, 255, 255, 0)) # transparent pixel\n",
    "    else:\n",
    "        newData.append(item) # unedited pixel, can change the character color\n",
    "planeIm.putdata(newData)\n",
    "planeIm.save('output.png', \"PNG\")"
   ]
  }
 ]
}