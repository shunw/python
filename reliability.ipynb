{
 "nbformat": 4,
 "nbformat_minor": 2,
 "metadata": {
  "language_info": {
   "name": "python",
   "codemirror_mode": {
    "name": "ipython",
    "version": 3
   },
   "version": "3.6.5-final"
  },
  "orig_nbformat": 2,
  "file_extension": ".py",
  "mimetype": "text/x-python",
  "name": "python",
  "npconvert_exporter": "python",
  "pygments_lexer": "ipython3",
  "version": 3,
  "kernelspec": {
   "name": "python36564bitff28b0bc308b43728a982148efad7fb6",
   "display_name": "Python 3.6.5 64-bit"
  }
 },
 "cells": [
  {
   "cell_type": "markdown",
   "metadata": {},
   "source": [
    "# Weibull Distribution"
   ]
  },
  {
   "cell_type": "markdown",
   "metadata": {},
   "source": [
    "There is no distribution called weibull in scipy. There are \n",
    "\n",
    "- weibull_min\n",
    "    \n",
    "- weibull_max \n",
    "    \n",
    "- exponweib\n",
    "    \n",
    "weibull_min is the one that matches the wikipedia article on the Weibull distribuition. weibull_min has three parameters: c (shape), loc (location) and scale (scale). c and scale correspond to k and λ in the wikipedia article, respectively. (They aren't shown in the formula in the docstring, but all the scipy distributions have loc and scale parameters.)"
   ]
  },
  {
   "cell_type": "code",
   "execution_count": 3,
   "metadata": {},
   "outputs": [
    {
     "name": "stdout",
     "output_type": "stream",
     "text": "2.08884880248 0.565403405565\n"
    }
   ],
   "source": [
    "from scipy.stats import weibull_min\n",
    "import numpy as np\n",
    "\n",
    "data = np.array([10, 30, 50, 60])\n",
    "data = np.array([.1591, .3864, .6136, .8409])\n",
    "shape, loc, scale = weibull_min.fit(data, floc = 0)\n",
    "print (shape, scale)"
   ]
  },
  {
   "cell_type": "markdown",
   "metadata": {},
   "source": [
    "## Get the Sample Size\n",
    "\n",
    "[reference](https://zhuanlan.zhihu.com/p/33752114)"
   ]
  },
  {
   "cell_type": "code",
   "execution_count": null,
   "metadata": {},
   "outputs": [],
   "source": []
  },
  {
   "cell_type": "markdown",
   "metadata": {},
   "source": [
    "# Exponential Distribution"
   ]
  },
  {
   "cell_type": "markdown",
   "metadata": {},
   "source": [
    "## Get Sample Size"
   ]
  },
  {
   "cell_type": "code",
   "execution_count": 10,
   "metadata": {},
   "outputs": [
    {
     "data": {
      "text/plain": "2534.8647120837081"
     },
     "execution_count": 10,
     "metadata": {},
     "output_type": "execute_result"
    }
   ],
   "source": [
    "import scipy.stats as st\n",
    "\n",
    "def sample_size_exp(alpha, lower_limit, occur_qty): \n",
    "    lower = st.chi2.ppf(1 - alpha, 2 * (occur_qty + 1))\n",
    "    return lower * lower_limit / 2\n",
    "\n",
    "sample_size_exp(.2, 45000 * .7, 0) / 20"
   ]
  }
 ]
}